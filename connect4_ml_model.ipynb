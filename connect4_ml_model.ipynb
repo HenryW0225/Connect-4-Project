{
  "nbformat": 4,
  "nbformat_minor": 0,
  "metadata": {
    "colab": {
      "provenance": [],
      "authorship_tag": "ABX9TyNO6YQ8eUYhtI3CEzcK4lU4",
      "include_colab_link": true
    },
    "kernelspec": {
      "name": "python3",
      "display_name": "Python 3"
    },
    "language_info": {
      "name": "python"
    }
  },
  "cells": [
    {
      "cell_type": "markdown",
      "metadata": {
        "id": "view-in-github",
        "colab_type": "text"
      },
      "source": [
        "<a href=\"https://colab.research.google.com/github/HenryW0225/Connect-4-Project/blob/main/connect4_ml_model.ipynb\" target=\"_parent\"><img src=\"https://colab.research.google.com/assets/colab-badge.svg\" alt=\"Open In Colab\"/></a>"
      ]
    },
    {
      "cell_type": "code",
      "source": [
        "# parameters for generating dataset using negamax algorithm\n",
        "samples = 5000\n",
        "depth = 10\n",
        "min_moves = 0; # for randommly generated positions;\n",
        "max_moves = 42 - depth;\n"
      ],
      "metadata": {
        "id": "9mfqWdmxrlp-"
      },
      "execution_count": null,
      "outputs": []
    },
    {
      "cell_type": "code",
      "source": [
        "# functions to generate dataset using optimized negamax algorithm\n",
        "import csv, random\n",
        "from math import inf\n",
        "\n",
        "W, H = 7, 6\n",
        "SIZE = W * (H + 1)\n",
        "COL_MASKS = [(1 << (H + 1)) - 1 << (c * (H + 1)) for c in range(W)]\n",
        "BOTTOM_MASKS = [1 << (c * (H + 1)) for c in range(W)]\n",
        "TOP_MASKS = [1 << (H - 1 + c * (H + 1)) for c in range(W)]\n",
        "FULL_TOP = 0\n",
        "for m in TOP_MASKS: FULL_TOP |= m\n",
        "ORDER = [3, 2, 4, 1, 5, 0, 6]\n",
        "TT = {}\n",
        "\n",
        "def can_play(mask, c):\n",
        "    return (mask & TOP_MASKS[c]) == 0\n",
        "\n",
        "def play(mask, pos, c):\n",
        "    col = mask & COL_MASKS[c]\n",
        "    move = (col + BOTTOM_MASKS[c]) & ~col & COL_MASKS[c]\n",
        "    n = mask | move\n",
        "    return n, pos ^ move\n",
        "\n",
        "def winning(p):\n",
        "    m = p & (p >> (H + 1))\n",
        "    if m & (m >> (2 * (H + 1))): return True\n",
        "    m = p & (p >> H)\n",
        "    if m & (m >> (2 * H)): return True\n",
        "    m = p & (p >> (H + 2))\n",
        "    if m & (m >> (2 * (H + 2))): return True\n",
        "    m = p & (p >> 1)\n",
        "    return bool(m & (m >> 2))\n",
        "\n",
        "def key(mask, pos, depth):\n",
        "    return (mask, pos, depth)\n",
        "\n",
        "def negamax(mask, pos, depth, alpha, beta):\n",
        "    k = key(mask, pos, depth)\n",
        "    if k in TT: return TT[k]\n",
        "    if winning(pos):\n",
        "        TT[k] = 1; return 1\n",
        "    if (mask & FULL_TOP) == FULL_TOP or depth == 0:\n",
        "        TT[k] = 0; return 0\n",
        "    a = alpha\n",
        "    best = -inf\n",
        "    for c in ORDER:\n",
        "        if not can_play(mask, c): continue\n",
        "        m2, p2 = play(mask, pos, c)\n",
        "        if winning(p2):\n",
        "            TT[k] = 1; return 1\n",
        "        v = -negamax(m2, m2 ^ p2, depth - 1, -beta, -a)\n",
        "        if v > best: best = v\n",
        "        if best > a: a = best\n",
        "        if a >= beta or best == 1: break\n",
        "    out = 1 if best > 0 else (-1 if best < 0 else 0)\n",
        "    TT[k] = out\n",
        "    return out\n",
        "\n",
        "def random_position(min_moves=min_moves, max_moves=max_moves):\n",
        "    mask = pos = 0\n",
        "    turn = 0\n",
        "    n = random.randint(min_moves, max_moves)\n",
        "    for _ in range(n):\n",
        "        mv = None\n",
        "        for c in ORDER:\n",
        "            if can_play(mask, c): mv = c; break\n",
        "        if mv is None: break\n",
        "        c = random.choice([d for d in ORDER if can_play(mask, d)])\n",
        "        mask, pos = play(mask, pos if turn == 0 else mask ^ pos, c)\n",
        "        if winning(pos if turn == 0 else mask ^ pos): break\n",
        "        turn ^= 1\n",
        "    player_pos = pos if turn == 0 else mask ^ pos\n",
        "    return mask, player_pos\n",
        "\n",
        "def to_board(mask, pos):\n",
        "    b = [0]*(W*H)\n",
        "    for c in range(W):\n",
        "        colm = (mask >> (c*(H+1))) & ((1<<(H+1))-1)\n",
        "        colp = (pos  >> (c*(H+1))) & ((1<<(H+1))-1)\n",
        "        for r in range(H):\n",
        "            bit = 1 << r\n",
        "            if colm & bit:\n",
        "                b[c*H + r] = 1 if (colp & bit) else -1\n",
        "    return b\n",
        "\n",
        "def generate_csv_progress(path, samples=5000, depth=10, include_draw=False, exact_tail=14, every=500):\n",
        "    with open(path, \"w\", newline=\"\") as f:\n",
        "        w = csv.writer(f)\n",
        "        w.writerow([f\"x{i}\" for i in range(42)] + [\"outcome\"])\n",
        "        written = 0\n",
        "        wins = losses = draws = 0\n",
        "        while written < samples:\n",
        "            if len(TT) > 1_000_000: TT.clear()\n",
        "            m, p = random_position()\n",
        "            rem = 42 - m.bit_count()\n",
        "            d = rem if rem <= exact_tail else depth\n",
        "            s = negamax(m, p, d, -inf, inf)\n",
        "            if s != 0 and random.random() < 0.5:\n",
        "                p = m ^ p\n",
        "                s = -s\n",
        "            if s == 0 and draws > min(wins, losses):\n",
        "                if not include_draw:\n",
        "                    continue\n",
        "            if not include_draw and s == 0:\n",
        "                continue\n",
        "            lbl = \"win\" if s == 1 else (\"loss\" if s == -1 else \"draw\")\n",
        "            w.writerow(to_board(m, p) + [lbl])\n",
        "            written += 1\n",
        "            if s == 1: wins += 1\n",
        "            elif s == -1: losses += 1\n",
        "            else: draws += 1\n",
        "            if written % every == 0:\n",
        "                print(f\"{written}/{samples} | win={wins} loss={losses} draw={draws}\")\n",
        "    print(f\"Done: {samples} rows -> {path}\")\n"
      ],
      "metadata": {
        "id": "hK3bSbSzHV93"
      },
      "execution_count": null,
      "outputs": []
    },
    {
      "cell_type": "code",
      "source": [
        "# generating dataset using negamax algorithm\n",
        "out_path = \"/content/connect4_negamax_dataset.csv\"\n",
        "generate_csv_progress(out_path, samples=samples, depth=depth, include_draw=False, exact_tail=14)\n",
        "\n",
        "# downloading dataset file to computer\n",
        "from google.colab import files\n",
        "files.download('/content/connect4_negamax_dataset.csv')\n"
      ],
      "metadata": {
        "id": "fqGhTVmTsLFs"
      },
      "execution_count": null,
      "outputs": []
    },
    {
      "cell_type": "code",
      "source": [
        "# uploading dataset file\n",
        "from google.colab import files\n",
        "uploaded = files.upload()\n"
      ],
      "metadata": {
        "id": "6Po0icmkRGkL"
      },
      "execution_count": null,
      "outputs": []
    },
    {
      "cell_type": "code",
      "source": [
        "# installing dependencies\n",
        "!pip install pandas numpy scikit-learn joblib\n",
        "\n",
        "import numpy as np\n",
        "from sklearn.model_selection import train_test_split\n",
        "from sklearn.ensemble import RandomForestClassifier\n",
        "from sklearn.metrics import classification_report\n",
        "import joblib\n"
      ],
      "metadata": {
        "id": "QPZCYxQm8Qo5"
      },
      "execution_count": null,
      "outputs": []
    },
    {
      "cell_type": "code",
      "execution_count": null,
      "metadata": {
        "id": "hhHoX4Ts665r"
      },
      "outputs": [],
      "source": [
        "import pandas as pd\n",
        "\n",
        "# using self-generated dataset\n",
        "url = \"connect4_negamax_dataset (1).csv\" # different when you create multiple datasets with the same name\n",
        "df = pd.read_csv(url, header=None)\n",
        "\n",
        "# Name columns: cell_0–cell_41 and 'outcome'\n",
        "df.columns = [f\"cell_{i}\" for i in range(42)] + [\"outcome\"]\n",
        "\n",
        "# Enocde outcomes\n",
        "df[\"outcome\"] = df[\"outcome\"].map({\"win\": 0, \"loss\": 1, \"draw\": 2})\n",
        "\n"
      ]
    },
    {
      "cell_type": "code",
      "source": [
        "import pandas as pd\n",
        "\n",
        "# using UCI Connect 4 dataset (downloaded and uploaded from computer)\n",
        "!gunzip -c connect-4.data.Z > connect-4.data\n",
        "url = \"connect-4.data\"\n",
        "\n",
        "df = pd.read_csv(url, header=None)\n",
        "\n",
        "# Name columns: cell_0–cell_41 and 'outcome'\n",
        "df.columns = [f\"cell_{i}\" for i in range(42)] + [\"outcome\"]\n",
        "\n",
        "# Encode features for UCI dataset: b=0, x=1, o=2;\n",
        "for i in range(42) :\n",
        "  df[f\"cell_{i}\"] = df[f\"cell_{i}\"].map({\"b\": 0, \"x\": 1, \"o\": -1})\n",
        "\n",
        "# Enocde outcomes\n",
        "df[\"outcome\"] = df[\"outcome\"].map({\"win\": 0, \"loss\": 1, \"draw\": 2})"
      ],
      "metadata": {
        "id": "NCwHRhWoC95n"
      },
      "execution_count": null,
      "outputs": []
    },
    {
      "cell_type": "code",
      "source": [
        "# verification check\n",
        "def gravity_ok(row42):\n",
        "    for c in range(7):\n",
        "        col = row42[c*6:(c+1)*6]\n",
        "        for r in range(1,6):\n",
        "            if col[r] != 0 and col[r-1] == 0:\n",
        "                return False, (c, r)\n",
        "    return True, None\n",
        "\n",
        "ok = True\n",
        "for _ in range(2000):\n",
        "    m, p = random_position()\n",
        "    row = to_board(m, p)\n",
        "    g, where = gravity_ok(row)\n",
        "    if not g:\n",
        "        ok = False\n",
        "        print(\"Violation at:\", where, \"row:\", row)\n",
        "        break\n",
        "print(\"format+gravity OK:\", ok)"
      ],
      "metadata": {
        "id": "i0Hx6FvQ6h7-"
      },
      "execution_count": null,
      "outputs": []
    },
    {
      "cell_type": "code",
      "source": [
        "# checking dataset\n",
        "df = df.iloc[1:].reset_index(drop=True)\n",
        "df.head(10)\n"
      ],
      "metadata": {
        "id": "P6nrwGuq9Meu"
      },
      "execution_count": null,
      "outputs": []
    },
    {
      "cell_type": "code",
      "source": [
        "# traing ml model using dataset\n",
        "\n",
        "# seperating features and label of the dataset\n",
        "X = df.iloc[:, :-1]\n",
        "y = df['outcome']\n",
        "\n",
        "# splitting dataset for train section and test section\n",
        "from sklearn.model_selection import train_test_split\n",
        "X_train, X_test, y_train, y_test = train_test_split(X, y, test_size=0.2, random_state=42)\n",
        "\n",
        "# creating random forest classifier model and training to dataset\n",
        "from sklearn.ensemble import RandomForestClassifier\n",
        "model = RandomForestClassifier(n_estimators=100, random_state=84)\n",
        "model.fit(X_train, y_train)\n",
        "\n",
        "# testing dataset and reporting success of model\n",
        "from sklearn.metrics import classification_report\n",
        "y_pred = model.predict(X_test)\n",
        "print(classification_report(y_test, y_pred))\n"
      ],
      "metadata": {
        "id": "gXyXUysW-lcc"
      },
      "execution_count": null,
      "outputs": []
    },
    {
      "cell_type": "code",
      "source": [
        "# compressing model\n",
        "joblib.dump(model, 'connect4_model.pkl', compress = 5)"
      ],
      "metadata": {
        "id": "8l04e5CMF9_T"
      },
      "execution_count": null,
      "outputs": []
    },
    {
      "cell_type": "code",
      "source": [
        "# download ml model\n",
        "from google.colab import files\n",
        "files.download('connect4_model.pkl')"
      ],
      "metadata": {
        "id": "XuzXlNu-cn0L"
      },
      "execution_count": null,
      "outputs": []
    },
    {
      "cell_type": "code",
      "source": [
        "# seperate model testing\n",
        "simulated_board = [1, 1, 1, 0, 0, 0, 0, 0, 0, 0, 0, 0, 0, 0, 0, 0, 0, 0, -1, -1, -1, 0, 0, 0, 0, 0, 0, 0, 0, 0, 0, 0, 0, 0, 0, 0, 0, 0, 0, 0, 0, 0]\n",
        "\n",
        "probs = model.predict_proba(pd.DataFrame([simulated_board], columns=X.columns))[0]\n",
        "print(dict(zip(model.classes_, probs)))"
      ],
      "metadata": {
        "id": "PLUJBBsUeS3k"
      },
      "execution_count": null,
      "outputs": []
    }
  ]
}